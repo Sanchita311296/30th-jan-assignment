{
 "cells": [
  {
   "cell_type": "code",
   "execution_count": 11,
   "id": "3bb991cc-6070-472a-b63e-ef9888f82707",
   "metadata": {},
   "outputs": [
    {
     "name": "stdin",
     "output_type": "stream",
     "text": [
      "Enter your marks 54\n"
     ]
    },
    {
     "name": "stdout",
     "output_type": "stream",
     "text": [
      "Your grade is D\n"
     ]
    }
   ],
   "source": [
    "#1)\n",
    "marks= int(input('Enter your marks')) \n",
    "if marks>90:\n",
    "    print ('Your grade is A')\n",
    "elif marks>80 and marks<=90:\n",
    "    print ('Your grade is B')\n",
    "elif marks >=60 and marks <=80:\n",
    "    print ('Your grade is C')\n",
    "else:\n",
    "    print ('Your grade is D')"
   ]
  },
  {
   "cell_type": "code",
   "execution_count": 7,
   "id": "063e3174-552b-4b53-9cb7-f1b8f113056f",
   "metadata": {},
   "outputs": [
    {
     "name": "stdin",
     "output_type": "stream",
     "text": [
      "Enter cost price of bike 45120\n"
     ]
    },
    {
     "name": "stdout",
     "output_type": "stream",
     "text": [
      "Road tax to be paid is 5%\n"
     ]
    }
   ],
   "source": [
    "#2)\n",
    "cost_price=int(input('Enter cost price of bike'))\n",
    "if cost_price>100000:\n",
    "    print('Road tax to be paid is 15%')\n",
    "elif cost_price>50000 and cost_price<=100000:\n",
    "    print ('Road tax to be paid is 10%')\n",
    "elif cost_price<=50000:\n",
    "    print ('Road tax to be paid is 5%')"
   ]
  },
  {
   "cell_type": "code",
   "execution_count": 10,
   "id": "85a389b3-9715-45d5-8845-96e4e343582d",
   "metadata": {},
   "outputs": [
    {
     "name": "stdin",
     "output_type": "stream",
     "text": [
      "Enter your destination city Jaipur\n"
     ]
    },
    {
     "name": "stdout",
     "output_type": "stream",
     "text": [
      "Monument is Jal Mahal\n"
     ]
    }
   ],
   "source": [
    "#3)\n",
    "city=input('Enter your destination city')\n",
    "if city=='Delhi':\n",
    "    print('Monument is Red Fort')\n",
    "elif city=='Agra':\n",
    "    print ('Monument is Taj Mahal')\n",
    "elif city=='Jaipur':\n",
    "    print('Monument is Jal Mahal')"
   ]
  },
  {
   "cell_type": "code",
   "execution_count": 2,
   "id": "4d7705af-1a54-4cd8-94ab-ec50574b84bf",
   "metadata": {},
   "outputs": [
    {
     "name": "stdout",
     "output_type": "stream",
     "text": [
      "5\n",
      "6\n",
      "7\n",
      "8\n",
      "9\n",
      "10\n",
      "11\n",
      "12\n",
      "13\n",
      "14\n",
      "15\n"
     ]
    }
   ],
   "source": [
    "#5)\n",
    "''' While loop is used to run a block code untill a certain given condition is True.\n",
    "The while loop evaluates the condiition and if the condition is True,\n",
    "the code inside will be executed otherwise it will exit the loop.'''\n",
    "v=5\n",
    "while v<=15:\n",
    "    print(v)\n",
    "    v=v+1\n",
    "    "
   ]
  },
  {
   "cell_type": "code",
   "execution_count": null,
   "id": "3c0e4f08-152b-42c1-b8d8-2c9e706b8dc1",
   "metadata": {},
   "outputs": [],
   "source": [
    "#6)\n"
   ]
  },
  {
   "cell_type": "code",
   "execution_count": 3,
   "id": "02b803d3-f9f0-41ef-a259-cc20d9f21176",
   "metadata": {},
   "outputs": [
    {
     "name": "stdout",
     "output_type": "stream",
     "text": [
      "10\n",
      "9\n",
      "8\n",
      "7\n",
      "6\n",
      "5\n",
      "4\n",
      "3\n",
      "2\n",
      "1\n"
     ]
    }
   ],
   "source": [
    "# 7) and 8)\n",
    "i=10\n",
    "while i>0:\n",
    "    print(i)\n",
    "    i=i-1"
   ]
  },
  {
   "cell_type": "code",
   "execution_count": null,
   "id": "433f5520-4ced-4a13-95fa-50013a2263ce",
   "metadata": {},
   "outputs": [],
   "source": []
  }
 ],
 "metadata": {
  "kernelspec": {
   "display_name": "Python 3 (ipykernel)",
   "language": "python",
   "name": "python3"
  },
  "language_info": {
   "codemirror_mode": {
    "name": "ipython",
    "version": 3
   },
   "file_extension": ".py",
   "mimetype": "text/x-python",
   "name": "python",
   "nbconvert_exporter": "python",
   "pygments_lexer": "ipython3",
   "version": "3.10.8"
  }
 },
 "nbformat": 4,
 "nbformat_minor": 5
}
